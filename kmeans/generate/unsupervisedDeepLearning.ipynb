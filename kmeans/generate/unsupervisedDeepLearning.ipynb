{
  "cells": [
    {
      "cell_type": "code",
      "execution_count": 1,
      "metadata": {
        "id": "n8GURn4ilcxg"
      },
      "outputs": [],
      "source": [
        "#import required modules \n",
        "\n",
        "import numpy as np\n",
        "import matplotlib.pyplot as plt\n",
        "from sklearn.decomposition import PCA\n",
        "from sklearn.utils import parallel_backend\n",
        "from tqdm import tqdm\n",
        "import tensorflow as tf"
      ]
    },
    {
      "cell_type": "code",
      "execution_count": 2,
      "metadata": {
        "colab": {
          "base_uri": "https://localhost:8080/"
        },
        "id": "L026TQ2fFx9h",
        "outputId": "bf35c9e5-1cff-4f63-8905-7c6ab3b4ef08"
      },
      "outputs": [
        {
          "output_type": "stream",
          "name": "stdout",
          "text": [
            "[PhysicalDevice(name='/physical_device:CPU:0', device_type='CPU'), PhysicalDevice(name='/physical_device:GPU:0', device_type='GPU')]\n"
          ]
        }
      ],
      "source": [
        "print(tf.config.list_physical_devices())"
      ]
    },
    {
      "cell_type": "code",
      "execution_count": 3,
      "metadata": {
        "id": "BtRETprcFops"
      },
      "outputs": [],
      "source": [
        "tf.config.set_visible_devices(tf.config.list_physical_devices('GPU')[0], 'GPU')"
      ]
    },
    {
      "cell_type": "code",
      "execution_count": 4,
      "metadata": {
        "id": "FU7YH5JT6UnN",
        "colab": {
          "base_uri": "https://localhost:8080/"
        },
        "outputId": "f1cac0a6-793b-4b66-8c9e-afbfd5e4cb71"
      },
      "outputs": [
        {
          "output_type": "stream",
          "name": "stdout",
          "text": [
            "Downloading data from https://storage.googleapis.com/tensorflow/tf-keras-datasets/mnist.npz\n",
            "11490434/11490434 [==============================] - 0s 0us/step\n"
          ]
        }
      ],
      "source": [
        "(x_train, y_train), (x_test, y_test) = tf.keras.datasets.mnist.load_data(path='mnist.npz')"
      ]
    },
    {
      "cell_type": "code",
      "execution_count": 5,
      "metadata": {
        "id": "iVWOBmn26uFx"
      },
      "outputs": [],
      "source": [
        "assert x_train.shape == (60000, 28, 28)\n",
        "assert x_test.shape == (10000, 28, 28)\n",
        "assert y_train.shape == (60000,)\n",
        "assert y_test.shape == (10000,)"
      ]
    },
    {
      "cell_type": "code",
      "execution_count": 6,
      "metadata": {
        "id": "mWq5wGXn903S"
      },
      "outputs": [],
      "source": [
        "# Function to implement steps given in previous section\n",
        "def kmeansgenerate(k, no_of_iterations):\n",
        "    \n",
        "    (x_train, y_train), (x_test, y_test) = tf.keras.datasets.mnist.load_data(path='mnist.npz')\n",
        "    \n",
        "    assert x_train.shape == (60000, 28, 28)\n",
        "    assert x_test.shape == (10000, 28, 28)\n",
        "    assert y_train.shape == (60000,)\n",
        "    assert y_test.shape == (10000,)\n",
        "\n",
        "\n",
        "    # Flatten the images into vectors\n",
        "    x_train_flatten = x_train.reshape(x_train.shape[0], -1)\n",
        "    x_test_flatten = x_test.reshape(x_test.shape[0], -1)\n",
        "\n",
        "    # Combine the training and testing data\n",
        "    x_combined = np.concatenate((x_train_flatten, x_test_flatten), axis=0)\n",
        "\n",
        "    # Step 1: Randomly choosing initial centroids\n",
        "    idx = np.random.choice(len(x_combined), k, replace=False)\n",
        "\n",
        "    centroids = x_combined[idx, :]\n",
        "    size_test = x_combined[:, np.newaxis] - centroids\n",
        "    # Step 2: Finding the distance between centroids and all the data points\n",
        "    with parallel_backend('threading'):  # Parallelize computation\n",
        "        distances = np.linalg.norm(x_combined[:, np.newaxis] - centroids, axis=2)\n",
        "\n",
        "    # Step 3: Assigning data points to the closest centroid\n",
        "    points = np.argmin(distances, axis=1)\n",
        "\n",
        "    # Repeating the above steps for a defined number of iterations with tqdm\n",
        "    for _ in tqdm(range(no_of_iterations), desc='K-means Iterations'):\n",
        "        # Step 4: Updating the centroids\n",
        "        centroids = []\n",
        "        for idx in range(k):\n",
        "            # Updating Centroids by taking mean of Cluster it belongs to\n",
        "            temp_cent = x_combined[points == idx].mean(axis=0)\n",
        "            centroids.append(temp_cent)\n",
        "        centroids = np.vstack(centroids)  # Updated Centroids\n",
        "\n",
        "        # Updating the distances and reassigning the points\n",
        "        with parallel_backend('threading'):  # Parallelize computation\n",
        "            distances = np.linalg.norm(x_combined[:, np.newaxis] - centroids, axis=2)\n",
        "        points = np.argmin(distances, axis=1)\n",
        "\n",
        "    # Returning the assigned points\n",
        "    return centroids \n",
        "\n",
        "\n",
        "\n"
      ]
    },
    {
      "cell_type": "code",
      "source": [],
      "metadata": {
        "id": "GIxR-wL1Fhwq"
      },
      "execution_count": 6,
      "outputs": []
    },
    {
      "cell_type": "markdown",
      "metadata": {
        "id": "TEHllk79J-K9"
      },
      "source": [
        "**Generating Image**"
      ]
    },
    {
      "cell_type": "code",
      "execution_count": 7,
      "metadata": {
        "id": "yYPtvuZXITqQ",
        "colab": {
          "base_uri": "https://localhost:8080/",
          "height": 270
        },
        "outputId": "e2d9102a-4490-48f3-a436-f251062b19c5"
      },
      "outputs": [
        {
          "output_type": "stream",
          "name": "stderr",
          "text": [
            "K-means Iterations: 100%|██████████| 50/50 [08:05<00:00,  9.70s/it]\n"
          ]
        },
        {
          "output_type": "stream",
          "name": "stdout",
          "text": [
            "(30, 784)\n"
          ]
        },
        {
          "output_type": "error",
          "ename": "ValueError",
          "evalue": "ignored",
          "traceback": [
            "\u001b[0;31m---------------------------------------------------------------------------\u001b[0m",
            "\u001b[0;31mValueError\u001b[0m                                Traceback (most recent call last)",
            "\u001b[0;32m<ipython-input-7-bfb6ea6ef749>\u001b[0m in \u001b[0;36m<cell line: 6>\u001b[0;34m()\u001b[0m\n\u001b[1;32m      4\u001b[0m \u001b[0mprint\u001b[0m\u001b[0;34m(\u001b[0m\u001b[0mcentroids\u001b[0m\u001b[0;34m.\u001b[0m\u001b[0mshape\u001b[0m\u001b[0;34m)\u001b[0m\u001b[0;34m\u001b[0m\u001b[0;34m\u001b[0m\u001b[0m\n\u001b[1;32m      5\u001b[0m \u001b[0;31m# Generate new digits from the cluster centroids\u001b[0m\u001b[0;34m\u001b[0m\u001b[0;34m\u001b[0m\u001b[0m\n\u001b[0;32m----> 6\u001b[0;31m \u001b[0mgenerated_digits\u001b[0m \u001b[0;34m=\u001b[0m \u001b[0mcentroids\u001b[0m\u001b[0;34m.\u001b[0m\u001b[0mreshape\u001b[0m\u001b[0;34m(\u001b[0m\u001b[0mk\u001b[0m\u001b[0;34m,\u001b[0m\u001b[0;34m)\u001b[0m\u001b[0;34m.\u001b[0m\u001b[0mreshape\u001b[0m\u001b[0;34m(\u001b[0m\u001b[0mk\u001b[0m\u001b[0;34m,\u001b[0m \u001b[0;36m28\u001b[0m\u001b[0;34m,\u001b[0m \u001b[0;36m28\u001b[0m\u001b[0;34m)\u001b[0m\u001b[0;34m\u001b[0m\u001b[0;34m\u001b[0m\u001b[0m\n\u001b[0m\u001b[1;32m      7\u001b[0m \u001b[0;34m\u001b[0m\u001b[0m\n\u001b[1;32m      8\u001b[0m \u001b[0;34m\u001b[0m\u001b[0m\n",
            "\u001b[0;31mValueError\u001b[0m: cannot reshape array of size 23520 into shape (30,)"
          ]
        }
      ],
      "source": [
        "k = 30  # Number of clusters\n",
        "no_of_iterations = 50  # Number of iterations for K-means\n",
        "centroids = kmeansgenerate(k, no_of_iterations) # Apply K-means clustering\n",
        "print(centroids.shape)\n",
        "\n"
      ]
    },
    {
      "cell_type": "code",
      "source": [
        "# Generate new digits from the cluster centroids\n",
        "generated_digits = centroids.reshape(k, 28, 28)\n",
        "\n",
        "\n",
        "# In[ ]:\n",
        "\n",
        "\n",
        "fig, axs = plt.subplots(1, k, figsize=(12, 2))\n",
        "for i in range(k):\n",
        "  axs[i].imshow(generated_digits[i], cmap='gray')\n",
        "  axs[i].axis('off')\n",
        "plt.show()"
      ],
      "metadata": {
        "colab": {
          "base_uri": "https://localhost:8080/",
          "height": 62
        },
        "id": "_QRp49P8t2r3",
        "outputId": "91385e34-e501-431c-e5f4-bf4ddaa0cba9"
      },
      "execution_count": 8,
      "outputs": [
        {
          "output_type": "display_data",
          "data": {
            "text/plain": [
              "<Figure size 1200x200 with 30 Axes>"
            ],
            "image/png": "[encoded data removed]"
          },
          "metadata": {}
        }
      ]
    }
  ],
  "metadata": {
    "accelerator": "GPU",
    "colab": {
      "provenance": [],
      "machine_shape": "hm",
      "gpuType": "A100"
    },
    "kernelspec": {
      "display_name": "Python 3",
      "name": "python3"
    },
    "language_info": {
      "name": "python"
    }
  },
  "nbformat": 4,
  "nbformat_minor": 0
}