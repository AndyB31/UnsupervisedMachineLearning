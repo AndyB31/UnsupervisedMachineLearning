{
  "nbformat": 4,
  "nbformat_minor": 0,
  "metadata": {
    "colab": {
      "provenance": []
    },
    "kernelspec": {
      "name": "python3",
      "display_name": "Python 3"
    },
    "language_info": {
      "name": "python"
    }
  },
  "cells": [
    {
      "cell_type": "code",
      "execution_count": 1,
      "metadata": {
        "id": "0tX1XKGjLSft"
      },
      "outputs": [],
      "source": [
        "import tensorflow as tf  \n",
        "from tensorflow import keras\n",
        "import numpy as np\n",
        "import matplotlib.pyplot as plt\n"
      ]
    },
    {
      "cell_type": "markdown",
      "source": [],
      "metadata": {
        "id": "DfXyf2haMVSh"
      }
    },
    {
      "cell_type": "code",
      "source": [
        "(x_train, y_train),(x_test, y_test) = tf.keras.datasets.mnist.load_data()  # loads the popular \"mnist\" training dataset\n",
        "x_train = x_train/255.0  # scales the data. pixel values range from 0 to 255, so this makes it range 0 to 1\n",
        "x_test = x_test/255.0  # scales the data. pixel values range from 0 to 255, so this makes it range 0 to 1"
      ],
      "metadata": {
        "colab": {
          "base_uri": "https://localhost:8080/"
        },
        "id": "8oX1EUA5MgCv",
        "outputId": "569168be-1e3c-4f45-af58-d4eb0d28f9a3"
      },
      "execution_count": 2,
      "outputs": [
        {
          "output_type": "stream",
          "name": "stdout",
          "text": [
            "Downloading data from https://storage.googleapis.com/tensorflow/tf-keras-datasets/mnist.npz\n",
            "11490434/11490434 [==============================] - 0s 0us/step\n"
          ]
        }
      ]
    },
    {
      "cell_type": "code",
      "source": [
        "plt.imshow(x_train[0], cmap=\"gray\")"
      ],
      "metadata": {
        "colab": {
          "base_uri": "https://localhost:8080/",
          "height": 447
        },
        "id": "SGZ3Su__MlRb",
        "outputId": "09518d64-ab27-4063-e780-b8b52a22c5ee"
      },
      "execution_count": 3,
      "outputs": [
        {
          "output_type": "execute_result",
          "data": {
            "text/plain": [
              "<matplotlib.image.AxesImage at 0x7f6ec196cd00>"
            ]
          },
          "metadata": {},
          "execution_count": 3
        },
        {
          "output_type": "display_data",
          "data": {
            "text/plain": [
              "<Figure size 640x480 with 1 Axes>"
            ],
            "image/png": "[encoded data removed]"
          },
          "metadata": {}
        }
      ]
    },
    {
      "cell_type": "code",
      "source": [
        "def autoencoder_create():\n",
        "  #encoderpart\n",
        "  encoder_input = keras.Input(shape=(28, 28, 1), name='img')\n",
        "  x = keras.layers.Flatten()(encoder_input)\n",
        "  encoder_output = keras.layers.Dense(64, activation=\"relu\")(x)\n",
        "  encoder = keras.Model(encoder_input, encoder_output, name='encoder')\n",
        "  #decoderpart\n",
        "  decoder_input = keras.layers.Dense(64, activation=\"relu\")(encoder_output)\n",
        "  x = keras.layers.Dense(784, activation=\"sigmoid\")(decoder_input)\n",
        "  decoder_output = keras.layers.Reshape((28, 28, 1))(x)\n",
        "  lr_schedule = keras.optimizers.schedules.ExponentialDecay(\n",
        "    initial_learning_rate=1e-2,\n",
        "    decay_steps=1000000000,\n",
        "    decay_rate=1e-6)\n",
        "  opt = tf.keras.optimizers.Adam(lr_schedule)\n",
        "  return keras.Model(encoder_input, decoder_output, name='autoencoder'), opt, encoder"
      ],
      "metadata": {
        "id": "XhTHTGHPN0Sy"
      },
      "execution_count": 33,
      "outputs": []
    },
    {
      "cell_type": "code",
      "source": [
        "autoencoder,opt, encoder = autoencoder_create()"
      ],
      "metadata": {
        "id": "pUJhZDcbOq_4"
      },
      "execution_count": 34,
      "outputs": []
    },
    {
      "cell_type": "code",
      "source": [
        "autoencoder.summary()\n",
        "\n",
        "epochs = 5"
      ],
      "metadata": {
        "colab": {
          "base_uri": "https://localhost:8080/"
        },
        "id": "g3FclJIdPUQd",
        "outputId": "c8687040-0254-4aa7-8bca-dc3cea9f7e73"
      },
      "execution_count": 35,
      "outputs": [
        {
          "output_type": "stream",
          "name": "stdout",
          "text": [
            "Model: \"autoencoder\"\n",
            "_________________________________________________________________\n",
            " Layer (type)                Output Shape              Param #   \n",
            "=================================================================\n",
            " img (InputLayer)            [(None, 28, 28, 1)]       0         \n",
            "                                                                 \n",
            " flatten_5 (Flatten)         (None, 784)               0         \n",
            "                                                                 \n",
            " dense_15 (Dense)            (None, 64)                50240     \n",
            "                                                                 \n",
            " dense_16 (Dense)            (None, 64)                4160      \n",
            "                                                                 \n",
            " dense_17 (Dense)            (None, 784)               50960     \n",
            "                                                                 \n",
            " reshape_5 (Reshape)         (None, 28, 28, 1)         0         \n",
            "                                                                 \n",
            "=================================================================\n",
            "Total params: 105,360\n",
            "Trainable params: 105,360\n",
            "Non-trainable params: 0\n",
            "_________________________________________________________________\n"
          ]
        }
      ]
    },
    {
      "cell_type": "code",
      "source": [
        "\n",
        "autoencoder.compile(opt, loss='mse')\n",
        "for epoch in range(epochs):\n",
        "\n",
        "  history = autoencoder.fit(\n",
        "    x_train,\n",
        "    x_train,\n",
        "    epochs=1, \n",
        "    batch_size=32, validation_split=0.10\n",
        "      )   \n",
        "  autoencoder.save(f\"models/AE-{epoch+1}.model\")"
      ],
      "metadata": {
        "colab": {
          "base_uri": "https://localhost:8080/"
        },
        "id": "LibiuguwPbl0",
        "outputId": "820130da-cd42-465e-894c-6ffc747ac78f"
      },
      "execution_count": 36,
      "outputs": [
        {
          "output_type": "stream",
          "name": "stdout",
          "text": [
            "1688/1688 [==============================] - 10s 5ms/step - loss: 0.0186 - val_loss: 0.0124\n"
          ]
        },
        {
          "output_type": "stream",
          "name": "stderr",
          "text": [
            "WARNING:absl:Found untraced functions such as _update_step_xla while saving (showing 1 of 1). These functions will not be directly callable after loading.\n"
          ]
        },
        {
          "output_type": "stream",
          "name": "stdout",
          "text": [
            "1688/1688 [==============================] - 9s 5ms/step - loss: 0.0116 - val_loss: 0.0116\n"
          ]
        },
        {
          "output_type": "stream",
          "name": "stderr",
          "text": [
            "WARNING:absl:Found untraced functions such as _update_step_xla while saving (showing 1 of 1). These functions will not be directly callable after loading.\n"
          ]
        },
        {
          "output_type": "stream",
          "name": "stdout",
          "text": [
            "1688/1688 [==============================] - 8s 5ms/step - loss: 0.0112 - val_loss: 0.0110\n"
          ]
        },
        {
          "output_type": "stream",
          "name": "stderr",
          "text": [
            "WARNING:absl:Found untraced functions such as _update_step_xla while saving (showing 1 of 1). These functions will not be directly callable after loading.\n"
          ]
        },
        {
          "output_type": "stream",
          "name": "stdout",
          "text": [
            "1688/1688 [==============================] - 8s 5ms/step - loss: 0.0108 - val_loss: 0.0111\n"
          ]
        },
        {
          "output_type": "stream",
          "name": "stderr",
          "text": [
            "WARNING:absl:Found untraced functions such as _update_step_xla while saving (showing 1 of 1). These functions will not be directly callable after loading.\n"
          ]
        },
        {
          "output_type": "stream",
          "name": "stdout",
          "text": [
            "1688/1688 [==============================] - 8s 5ms/step - loss: 0.0108 - val_loss: 0.0103\n"
          ]
        },
        {
          "output_type": "stream",
          "name": "stderr",
          "text": [
            "WARNING:absl:Found untraced functions such as _update_step_xla while saving (showing 1 of 1). These functions will not be directly callable after loading.\n"
          ]
        }
      ]
    },
    {
      "cell_type": "code",
      "source": [
        "example = encoder.predict([ x_test[0].reshape(-1, 28, 28, 1) ])"
      ],
      "metadata": {
        "colab": {
          "base_uri": "https://localhost:8080/"
        },
        "id": "b6nw2FutQe4N",
        "outputId": "efdca142-59aa-4117-c873-2ca4ebad477b"
      },
      "execution_count": 37,
      "outputs": [
        {
          "output_type": "stream",
          "name": "stderr",
          "text": [
            "WARNING:tensorflow:5 out of the last 5 calls to <function Model.make_predict_function.<locals>.predict_function at 0x7f6e94c5d7e0> triggered tf.function retracing. Tracing is expensive and the excessive number of tracings could be due to (1) creating @tf.function repeatedly in a loop, (2) passing tensors with different shapes, (3) passing Python objects instead of tensors. For (1), please define your @tf.function outside of the loop. For (2), @tf.function has reduce_retracing=True option that can avoid unnecessary retracing. For (3), please refer to https://www.tensorflow.org/guide/function#controlling_retracing and https://www.tensorflow.org/api_docs/python/tf/function for  more details.\n"
          ]
        },
        {
          "output_type": "stream",
          "name": "stdout",
          "text": [
            "1/1 [==============================] - 0s 54ms/step\n"
          ]
        }
      ]
    },
    {
      "cell_type": "code",
      "source": [
        "print(example[0].shape)\n",
        "print(example[0])"
      ],
      "metadata": {
        "colab": {
          "base_uri": "https://localhost:8080/"
        },
        "id": "iCMMY288Rmm9",
        "outputId": "d3f94fb6-f2b6-42f1-c396-ac62a16b68f2"
      },
      "execution_count": 39,
      "outputs": [
        {
          "output_type": "stream",
          "name": "stdout",
          "text": [
            "(64,)\n",
            "[0.6751566  0.         0.7857231  1.7377427  2.774129   4.9856753\n",
            " 0.58372176 2.2027655  1.0402203  1.6963514  0.         1.7423773\n",
            " 0.         0.         0.         4.2756433  0.         0.\n",
            " 0.         0.         4.137318   0.8460165  0.11572971 0.\n",
            " 1.2979872  3.7455034  3.733972   8.05626    4.9042373  1.6317742\n",
            " 0.9605174  0.         0.930856   1.2050109  0.         7.2523375\n",
            " 1.4798733  0.         0.         0.         0.         1.5572263\n",
            " 0.         0.5862725  0.         2.3873758  1.5806131  1.6609681\n",
            " 1.6169885  2.7324772  0.9008496  0.         0.         3.1551776\n",
            " 0.         0.         0.         3.7590382  0.6161568  0.\n",
            " 0.         0.         0.         5.85188   ]\n"
          ]
        }
      ]
    },
    {
      "cell_type": "code",
      "source": [
        "plt.imshow(example[0].reshape((8,8)), cmap=\"gray\")"
      ],
      "metadata": {
        "colab": {
          "base_uri": "https://localhost:8080/",
          "height": 447
        },
        "id": "vrrYgLGaRpVX",
        "outputId": "bcaf0aa4-7ddd-48f8-dee5-c871bbb8f3eb"
      },
      "execution_count": 40,
      "outputs": [
        {
          "output_type": "execute_result",
          "data": {
            "text/plain": [
              "<matplotlib.image.AxesImage at 0x7f6ea12e1030>"
            ]
          },
          "metadata": {},
          "execution_count": 40
        },
        {
          "output_type": "display_data",
          "data": {
            "text/plain": [
              "<Figure size 640x480 with 1 Axes>"
            ],
            "image/png": "[encoded data removed]"
          },
          "metadata": {}
        }
      ]
    },
    {
      "cell_type": "code",
      "source": [
        "plt.imshow(x_test[0], cmap=\"gray\")"
      ],
      "metadata": {
        "colab": {
          "base_uri": "https://localhost:8080/",
          "height": 447
        },
        "id": "26NLTkVnRsAI",
        "outputId": "8c1f2168-3399-444c-ca68-cba75411c44a"
      },
      "execution_count": 41,
      "outputs": [
        {
          "output_type": "execute_result",
          "data": {
            "text/plain": [
              "<matplotlib.image.AxesImage at 0x7f6e95378400>"
            ]
          },
          "metadata": {},
          "execution_count": 41
        },
        {
          "output_type": "display_data",
          "data": {
            "text/plain": [
              "<Figure size 640x480 with 1 Axes>"
            ],
            "image/png": "[encoded data removed]"
          },
          "metadata": {}
        }
      ]
    },
    {
      "cell_type": "code",
      "source": [
        "ae_out = autoencoder.predict([ x_test[0].reshape(-1, 28, 28, 1) ])\n",
        "img = ae_out[0]  # predict is done on a vector, and returns a vector, even if its just 1 element, so we still need to grab the 0th\n",
        "plt.imshow(ae_out[0], cmap=\"gray\")"
      ],
      "metadata": {
        "colab": {
          "base_uri": "https://localhost:8080/",
          "height": 502
        },
        "id": "r9CnFTh1R5Lf",
        "outputId": "5a90e5b2-ea2e-46a3-9433-a11672f4f746"
      },
      "execution_count": 42,
      "outputs": [
        {
          "output_type": "stream",
          "name": "stderr",
          "text": [
            "WARNING:tensorflow:6 out of the last 6 calls to <function Model.make_predict_function.<locals>.predict_function at 0x7f6e95d19c60> triggered tf.function retracing. Tracing is expensive and the excessive number of tracings could be due to (1) creating @tf.function repeatedly in a loop, (2) passing tensors with different shapes, (3) passing Python objects instead of tensors. For (1), please define your @tf.function outside of the loop. For (2), @tf.function has reduce_retracing=True option that can avoid unnecessary retracing. For (3), please refer to https://www.tensorflow.org/guide/function#controlling_retracing and https://www.tensorflow.org/api_docs/python/tf/function for  more details.\n"
          ]
        },
        {
          "output_type": "stream",
          "name": "stdout",
          "text": [
            "1/1 [==============================] - 0s 85ms/step\n"
          ]
        },
        {
          "output_type": "execute_result",
          "data": {
            "text/plain": [
              "<matplotlib.image.AxesImage at 0x7f6e95b69cc0>"
            ]
          },
          "metadata": {},
          "execution_count": 42
        },
        {
          "output_type": "display_data",
          "data": {
            "text/plain": [
              "<Figure size 640x480 with 1 Axes>"
            ],
            "image/png": "[encoded data removed]"
          },
          "metadata": {}
        }
      ]
    }
  ]
}